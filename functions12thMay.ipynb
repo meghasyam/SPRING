{
  "nbformat": 4,
  "nbformat_minor": 0,
  "metadata": {
    "colab": {
      "name": "Untitled43.ipynb",
      "provenance": [],
      "authorship_tag": "ABX9TyMzny7boSaCF8GLFhmIhT9z",
      "include_colab_link": true
    },
    "kernelspec": {
      "name": "python3",
      "display_name": "Python 3"
    }
  },
  "cells": [
    {
      "cell_type": "markdown",
      "metadata": {
        "id": "view-in-github",
        "colab_type": "text"
      },
      "source": [
        "<a href=\"https://colab.research.google.com/github/meghasyam/SPRING/blob/master/functions12thMay.ipynb\" target=\"_parent\"><img src=\"https://colab.research.google.com/assets/colab-badge.svg\" alt=\"Open In Colab\"/></a>"
      ]
    },
    {
      "cell_type": "code",
      "metadata": {
        "id": "AZJDkULGjFHT",
        "colab_type": "code",
        "colab": {}
      },
      "source": [
        "def fun():\n",
        "  print(\"hello\")\n",
        "\n",
        "\n",
        "print(fun())"
      ],
      "execution_count": 0,
      "outputs": []
    },
    {
      "cell_type": "code",
      "metadata": {
        "id": "kkwxczTVjW49",
        "colab_type": "code",
        "colab": {}
      },
      "source": [
        "def add(a,b):\n",
        "  return a+b\n",
        "\n",
        "\n",
        "print(add(2,3))  "
      ],
      "execution_count": 0,
      "outputs": []
    },
    {
      "cell_type": "code",
      "metadata": {
        "id": "8RQ5B1s8kkGA",
        "colab_type": "code",
        "colab": {}
      },
      "source": [
        "def greet(name):\n",
        "    \"\"\"\n",
        "    This function greets to\n",
        "    the person passed in as\n",
        "    a parameter\n",
        "    \"\"\"\n",
        "    print(\"Hello, \" + name + \". Good morning!\")\n",
        "\n",
        "greet(\"name\")\n",
        "help(input)"
      ],
      "execution_count": 0,
      "outputs": []
    },
    {
      "cell_type": "code",
      "metadata": {
        "id": "IeiV3WWKlK-n",
        "colab_type": "code",
        "colab": {}
      },
      "source": [
        "def fun1(x,y=2,z=3):\n",
        "  print(x,y,z)\n",
        "\n",
        "x=\"dddd\"\n",
        "fun1(x)"
      ],
      "execution_count": 0,
      "outputs": []
    },
    {
      "cell_type": "code",
      "metadata": {
        "id": "x4Alb0lulz6E",
        "colab_type": "code",
        "colab": {}
      },
      "source": [
        "help(print)"
      ],
      "execution_count": 0,
      "outputs": []
    },
    {
      "cell_type": "code",
      "metadata": {
        "id": "HrzpeR8xmJHN",
        "colab_type": "code",
        "colab": {}
      },
      "source": [
        "def greet(*names):\n",
        "    \"\"\"This function greets all\n",
        "    the person in the names tuple.\"\"\"\n",
        "    print(\"********\")\n",
        "    # names is a tuple with arguments\n",
        "    for name in names:\n",
        "        print(\"Hello\", name)\n",
        "\n",
        "\n",
        "greet(\"Monica\", \"Luke\", \"Steve\", \"John\")\n",
        "greet(\"Monica\", \"Luke\", \"Steve\")\n",
        "greet(\"Monica\", \"Luke\", )\n",
        "greet(\"Monica\", \"Luke\", \"Steve\", \"John\",\"new\")\n",
        "greet()"
      ],
      "execution_count": 0,
      "outputs": []
    },
    {
      "cell_type": "code",
      "metadata": {
        "id": "mm4qfQzanEor",
        "colab_type": "code",
        "colab": {}
      },
      "source": [
        "counter = 0\n",
        "def recur():\n",
        "  print(\"called\")\n",
        "  global counter\n",
        "   \n",
        "  for i in range(5):\n",
        "    if counter != 5:\n",
        "      counter+=1\n",
        "      recur()\n",
        "      break\n",
        "\n",
        "\n",
        "recur()"
      ],
      "execution_count": 0,
      "outputs": []
    },
    {
      "cell_type": "code",
      "metadata": {
        "id": "vZ6GcDPQpJoI",
        "colab_type": "code",
        "colab": {}
      },
      "source": [
        "def factorial(x):\n",
        "    \"\"\"This is a recursive function\n",
        "    to find the factorial of an integer\"\"\"\n",
        "\n",
        "    if x == 1:\n",
        "        return 1\n",
        "    else:\n",
        "        return (x * factorial(x-1))\n",
        "\n",
        "\n",
        "num = 3\n",
        "print(\"The factorial of\", num, \"is\", factorial(num))"
      ],
      "execution_count": 0,
      "outputs": []
    },
    {
      "cell_type": "code",
      "metadata": {
        "id": "0k8mux2fpuZq",
        "colab_type": "code",
        "colab": {}
      },
      "source": [
        "def sum(x):\n",
        "    \"\"\"This is a recursive function\n",
        "    to find the factorial of an integer\"\"\"\n",
        "\n",
        "    if x == 0:\n",
        "        return 0\n",
        "    else:\n",
        "        return (x + sum(x-1))\n",
        "\n",
        "\n",
        "num = 5\n",
        "print(\"The factorial of\", num, \"is\", sum(num))"
      ],
      "execution_count": 0,
      "outputs": []
    },
    {
      "cell_type": "code",
      "metadata": {
        "id": "3AN0OYWpqYWi",
        "colab_type": "code",
        "colab": {}
      },
      "source": [
        "x1 =  lambda x : x+2 \n",
        "x1(2)\n",
        "\n",
        "def fun(x):\n",
        "  return x+2"
      ],
      "execution_count": 0,
      "outputs": []
    },
    {
      "cell_type": "code",
      "metadata": {
        "id": "uUaojEHRrDuL",
        "colab_type": "code",
        "colab": {}
      },
      "source": [
        "# Program to filter out only the even items from a list\n",
        "my_list = [1, 5, 4, 6, 8, 11, 3, 12]\n",
        "\n",
        "new_list = list(filter(lambda x: (x%2 == 1) , my_list))\n",
        "\n",
        "print(new_list)"
      ],
      "execution_count": 0,
      "outputs": []
    },
    {
      "cell_type": "code",
      "metadata": {
        "id": "SlSUKuLZrdsr",
        "colab_type": "code",
        "colab": {}
      },
      "source": [
        "# Program to double each item in a list using map()\n",
        "\n",
        "my_list = [1, 5, 4, 6, 8, 11, 3, 12]\n",
        "\n",
        "new_list = list(map(lambda x: x * 2 , my_list))\n",
        "\n",
        "print(new_list)"
      ],
      "execution_count": 0,
      "outputs": []
    },
    {
      "cell_type": "code",
      "metadata": {
        "id": "jjSLJuFKsLJJ",
        "colab_type": "code",
        "colab": {}
      },
      "source": [
        "x = \"global\"\n",
        "\n",
        "def foo():\n",
        " y =\"local\" \n",
        " print(\"x inside:\", x)\n",
        " print(\"y inside:\", y)\n",
        " \n",
        "\n",
        "foo()\n",
        "print(\"x outside:\", x)\n",
        "#print(\"y outside:\", y)"
      ],
      "execution_count": 0,
      "outputs": []
    },
    {
      "cell_type": "code",
      "metadata": {
        "id": "SRmlu3cgstVa",
        "colab_type": "code",
        "colab": {}
      },
      "source": [
        "z= \"global\"\n",
        "def outer():\n",
        "  x = \"local\"\n",
        "  \n",
        "  def inner():\n",
        "    #nonlocal x\n",
        "    #global z\n",
        "    x = \"nonlocal\"\n",
        "    z = \"dddd\"\n",
        "    print(\"inner:\", x)\n",
        "    print(\"global:\", z)\n",
        "\n",
        "  inner()\n",
        "  print(\"outer:\", x)\n",
        "\n",
        "outer()\n",
        "\n",
        "print(\"global:\", z)"
      ],
      "execution_count": 0,
      "outputs": []
    },
    {
      "cell_type": "code",
      "metadata": {
        "id": "vW-sYLwAtFjv",
        "colab_type": "code",
        "colab": {}
      },
      "source": [
        "c = 1 # global variable\n",
        "    \n",
        "def add():\n",
        "    global c\n",
        "    c = c + 2 # increment c by 2\n",
        "    print(c)\n",
        "\n",
        "add()"
      ],
      "execution_count": 0,
      "outputs": []
    },
    {
      "cell_type": "code",
      "metadata": {
        "id": "ooCqGghJtC7H",
        "colab_type": "code",
        "colab": {
          "base_uri": "https://localhost:8080/",
          "height": 87
        },
        "outputId": "8c343e9d-16d4-446e-9cca-e1bc9dbdb79d"
      },
      "source": [
        "def foo():\n",
        "    x = 20 #2\n",
        "\n",
        "    def bar():\n",
        "        global x #6\n",
        "        x = 25 #7\n",
        "    \n",
        "    print(\"Before calling bar: \", x) #3\n",
        "    print(\"Calling bar now\") #4\n",
        "    bar() #5\n",
        "    print(\"After calling bar: \", x) #8\n",
        "\n",
        "foo() #1\n",
        "print(\"x in main: \", x) #9"
      ],
      "execution_count": 51,
      "outputs": [
        {
          "output_type": "stream",
          "text": [
            "Before calling bar:  20\n",
            "Calling bar now\n",
            "After calling bar:  20\n",
            "x in main:  25\n"
          ],
          "name": "stdout"
        }
      ]
    },
    {
      "cell_type": "code",
      "metadata": {
        "id": "kAfC4ZpLtCL_",
        "colab_type": "code",
        "colab": {}
      },
      "source": [
        ""
      ],
      "execution_count": 0,
      "outputs": []
    }
  ]
}