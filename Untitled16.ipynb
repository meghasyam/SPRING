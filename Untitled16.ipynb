{
  "nbformat": 4,
  "nbformat_minor": 0,
  "metadata": {
    "colab": {
      "name": "Untitled16.ipynb",
      "provenance": [],
      "authorship_tag": "ABX9TyM3B4tvD4Y8NuPd68tggkeN",
      "include_colab_link": true
    },
    "kernelspec": {
      "name": "python3",
      "display_name": "Python 3"
    }
  },
  "cells": [
    {
      "cell_type": "markdown",
      "metadata": {
        "id": "view-in-github",
        "colab_type": "text"
      },
      "source": [
        "<a href=\"https://colab.research.google.com/github/meghasyam/SPRING/blob/master/Untitled16.ipynb\" target=\"_parent\"><img src=\"https://colab.research.google.com/assets/colab-badge.svg\" alt=\"Open In Colab\"/></a>"
      ]
    },
    {
      "cell_type": "code",
      "metadata": {
        "id": "WnaYTQ5Lkagv",
        "colab_type": "code",
        "colab": {}
      },
      "source": [
        "class Celsius:\n",
        "    def __init__(self, temperature = 0):\n",
        "        self.temperature=temperature\n",
        "        #self.set_temperature(temperature)\n",
        "\n",
        "    def to_fahrenheit(self):\n",
        "        return (self.get_temperature() * 1.8) + 32\n",
        "\n",
        "    # new update\n",
        "    def get_temperature(self):\n",
        "        return self._temperature\n",
        "\n",
        "    def set_temperature(self, value):\n",
        "        if value < -273:\n",
        "            raise ValueError(\"Temperature below -273 is not possible\")\n",
        "        self._temperature = value\n",
        "c = Celsius(-300)        \n",
        "#c = Celsius(37)\n",
        "#c.get_temperature()\n"
      ],
      "execution_count": 0,
      "outputs": []
    },
    {
      "cell_type": "code",
      "metadata": {
        "id": "bbmWUKjflDTl",
        "colab_type": "code",
        "colab": {
          "base_uri": "https://localhost:8080/",
          "height": 104
        },
        "outputId": "dad18a3b-75bf-4bba-f47b-7beef015f4f9"
      },
      "source": [
        "class Celsius:\n",
        "    def __init__(self, temperature = 0):\n",
        "        self.temperature = temperature # assing - settting value\n",
        "\n",
        "    def to_fahrenheit(self):\n",
        "        return (self.temperature * 1.8) + 32  # assing - getting value\n",
        "\n",
        "    def get_temperature(self):\n",
        "        print(\"Getting value\")\n",
        "        return self._temperature\n",
        "\n",
        "    def set_temperature(self, value):\n",
        "        if value < -273:\n",
        "            raise ValueError(\"Temperature below -273 is not possible\")\n",
        "        print(\"Setting value\")\n",
        "        self._temperature = value\n",
        "\n",
        "    temperature = property(get_temperature,set_temperature)\n",
        "\n",
        "c = Celsius(300) \n",
        "print(c.temperature)\n",
        "c.to_fahrenheit()"
      ],
      "execution_count": 11,
      "outputs": [
        {
          "output_type": "stream",
          "text": [
            "Setting value\n",
            "Getting value\n",
            "300\n",
            "Getting value\n"
          ],
          "name": "stdout"
        },
        {
          "output_type": "execute_result",
          "data": {
            "text/plain": [
              "572.0"
            ]
          },
          "metadata": {
            "tags": []
          },
          "execution_count": 11
        }
      ]
    }
  ]
}