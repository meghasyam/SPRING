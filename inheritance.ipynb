{
  "nbformat": 4,
  "nbformat_minor": 0,
  "metadata": {
    "colab": {
      "name": "Untitled47.ipynb",
      "provenance": [],
      "authorship_tag": "ABX9TyO5jKbYQD4U06qKycZagLOp",
      "include_colab_link": true
    },
    "kernelspec": {
      "name": "python3",
      "display_name": "Python 3"
    }
  },
  "cells": [
    {
      "cell_type": "markdown",
      "metadata": {
        "id": "view-in-github",
        "colab_type": "text"
      },
      "source": [
        "<a href=\"https://colab.research.google.com/github/meghasyam/SPRING/blob/master/inheritance.ipynb\" target=\"_parent\"><img src=\"https://colab.research.google.com/assets/colab-badge.svg\" alt=\"Open In Colab\"/></a>"
      ]
    },
    {
      "cell_type": "code",
      "metadata": {
        "id": "LRyavNDmi8QW",
        "colab_type": "code",
        "colab": {}
      },
      "source": [
        "class Polygon:\n",
        "    def __init__(self, no_of_sides):\n",
        "        self.n = no_of_sides\n",
        "        self.sides = [0 for i in range(no_of_sides)]\n",
        "\n",
        "    def inputSides(self):\n",
        "        self.sides = [float(input(\"Enter side \"+str(i+1)+\" : \")) for i in range(self.n)]\n",
        "\n",
        "    def dispSides(self):\n",
        "        for i in range(self.n):\n",
        "            print(\"Side\",i+1,\"is\",self.sides[i])\n",
        "\n",
        "class Triangle(Polygon):\n",
        "    def __init__(self):\n",
        "        Polygon.__init__(self,3)\n",
        "\n",
        "    def findArea(self):\n",
        "        a, b, c = self.sides\n",
        "        # calculate the semi-perimeter\n",
        "        s = (a + b + c) / 2\n",
        "        area = (s*(s-a)*(s-b)*(s-c)) ** 0.5\n",
        "        print('The area of the triangle is %0.2f' %area)\n",
        "\n",
        "t = Triangle()\n",
        "t.inputSides()\n",
        "t.dispSides()\n",
        "t.findArea()        \n",
        "\n"
      ],
      "execution_count": 0,
      "outputs": []
    },
    {
      "cell_type": "code",
      "metadata": {
        "id": "5fKaUQKVjryG",
        "colab_type": "code",
        "colab": {}
      },
      "source": [
        "class Base1:\n",
        "    pass\n",
        "\n",
        "class Base2:\n",
        "    pass\n",
        "\n",
        "class MultiDerived(Base1, Base2):\n",
        "    pass"
      ],
      "execution_count": 0,
      "outputs": []
    },
    {
      "cell_type": "code",
      "metadata": {
        "id": "thcM5TEvkGGS",
        "colab_type": "code",
        "colab": {
          "base_uri": "https://localhost:8080/",
          "height": 34
        },
        "outputId": "3c4b6f2d-03a5-4acc-ebbe-214ef80a539f"
      },
      "source": [
        "MultiDerived.__mro__"
      ],
      "execution_count": 5,
      "outputs": [
        {
          "output_type": "execute_result",
          "data": {
            "text/plain": [
              "(__main__.MultiDerived, __main__.Base1, __main__.Base2, object)"
            ]
          },
          "metadata": {
            "tags": []
          },
          "execution_count": 5
        }
      ]
    },
    {
      "cell_type": "code",
      "metadata": {
        "id": "m9r3DV49kVgU",
        "colab_type": "code",
        "colab": {
          "base_uri": "https://localhost:8080/",
          "height": 34
        },
        "outputId": "814bddba-7d93-4566-f1be-f7aa59fbd757"
      },
      "source": [
        "MultiDerived.mro()"
      ],
      "execution_count": 6,
      "outputs": [
        {
          "output_type": "execute_result",
          "data": {
            "text/plain": [
              "[__main__.MultiDerived, __main__.Base1, __main__.Base2, object]"
            ]
          },
          "metadata": {
            "tags": []
          },
          "execution_count": 6
        }
      ]
    },
    {
      "cell_type": "code",
      "metadata": {
        "id": "1Lj5OF4DjxJb",
        "colab_type": "code",
        "colab": {}
      },
      "source": [
        "class Base:\n",
        "    pass\n",
        "\n",
        "class Derived1(Base):\n",
        "    pass\n",
        "\n",
        "class Derived2(Derived1):\n",
        "    pass"
      ],
      "execution_count": 0,
      "outputs": []
    },
    {
      "cell_type": "code",
      "metadata": {
        "id": "70RQBvwEj2SG",
        "colab_type": "code",
        "colab": {}
      },
      "source": [
        "# Output: True\n",
        "print(issubclass(list,object))\n",
        "\n",
        "# Output: True\n",
        "print(isinstance(5.5,object))\n",
        "\n",
        "# Output: True\n",
        "print(isinstance(\"Hello\",object))"
      ],
      "execution_count": 0,
      "outputs": []
    },
    {
      "cell_type": "code",
      "metadata": {
        "id": "5g630yqkkbHb",
        "colab_type": "code",
        "colab": {
          "base_uri": "https://localhost:8080/",
          "height": 54
        },
        "outputId": "76a274be-02e7-4ec1-f456-dc7208e9d20f"
      },
      "source": [
        "class X: pass\n",
        "class Y: pass\n",
        "class Z: pass\n",
        "\n",
        "class A(X,Y): pass\n",
        "class B(Y,Z): pass\n",
        "\n",
        "class M(B,A,Z): pass\n",
        "\n",
        "# Output:\n",
        "# [<class '__main__.M'>, <class '__main__.B'>,\n",
        "# <class '__main__.A'>, <class '__main__.X'>,\n",
        "# <class '__main__.Y'>, <class '__main__.Z'>,\n",
        "# <class 'object'>]\n",
        "\n",
        "print(M.mro())"
      ],
      "execution_count": 7,
      "outputs": [
        {
          "output_type": "stream",
          "text": [
            "[<class '__main__.M'>, <class '__main__.B'>, <class '__main__.A'>, <class '__main__.X'>, <class '__main__.Y'>, <class '__main__.Z'>, <class 'object'>]\n"
          ],
          "name": "stdout"
        }
      ]
    }
  ]
}