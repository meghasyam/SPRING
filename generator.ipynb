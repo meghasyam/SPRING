{
  "nbformat": 4,
  "nbformat_minor": 0,
  "metadata": {
    "colab": {
      "name": "Untitled9.ipynb",
      "provenance": [],
      "authorship_tag": "ABX9TyOac1kjD8Dj/OIVXu1LE6+3",
      "include_colab_link": true
    },
    "kernelspec": {
      "name": "python3",
      "display_name": "Python 3"
    }
  },
  "cells": [
    {
      "cell_type": "markdown",
      "metadata": {
        "id": "view-in-github",
        "colab_type": "text"
      },
      "source": [
        "<a href=\"https://colab.research.google.com/github/meghasyam/SPRING/blob/master/generator.ipynb\" target=\"_parent\"><img src=\"https://colab.research.google.com/assets/colab-badge.svg\" alt=\"Open In Colab\"/></a>"
      ]
    },
    {
      "cell_type": "code",
      "metadata": {
        "id": "IiTfaeOFOvln",
        "colab_type": "code",
        "colab": {
          "base_uri": "https://localhost:8080/",
          "height": 35
        },
        "outputId": "16ddea17-5770-4fd9-9b73-9cd0fe184f0a"
      },
      "source": [
        "%%writefile py08-01.txt\n",
        "\n",
        "# Excluded because a comment.\n",
        "# This is also a comment, and the next two lines are blank.\n",
        "\n",
        "\n",
        "This line should be the first of four lines in the output.\n",
        "# The next line contains spaces and tabs, and should not appear.\n",
        "    \n",
        "And this should be the second.\n",
        "\n",
        "        # This should not appear (leading spaces but a comment).\n",
        "# Neither should this (leading tabs but a comment).\n",
        "        This should be the third line of output.\n",
        "\n",
        "And this should be the last.  "
      ],
      "execution_count": 1,
      "outputs": [
        {
          "output_type": "stream",
          "text": [
            "Writing py08-01.txt\n"
          ],
          "name": "stdout"
        }
      ]
    },
    {
      "cell_type": "code",
      "metadata": {
        "id": "FSIVEB0aPbeh",
        "colab_type": "code",
        "colab": {
          "base_uri": "https://localhost:8080/",
          "height": 35
        },
        "outputId": "325f5af6-99c6-4f26-ba94-19c79c9f2a9d"
      },
      "source": [
        "!ls"
      ],
      "execution_count": 2,
      "outputs": [
        {
          "output_type": "stream",
          "text": [
            "py08-01.txt  sample_data\n"
          ],
          "name": "stdout"
        }
      ]
    },
    {
      "cell_type": "code",
      "metadata": {
        "id": "-rzGSVzOPkl3",
        "colab_type": "code",
        "colab": {
          "base_uri": "https://localhost:8080/",
          "height": 87
        },
        "outputId": "45612fbc-1da7-412b-8bc7-9b385db4236a"
      },
      "source": [
        "\"\"\"\n",
        "Filter file contents using a sequence of generators.\n",
        "\"\"\"\n",
        "def nocomment(f):\n",
        "    \"Generate the non-comment lines of a file.\"\n",
        "    for line in f:\n",
        "        if not line.startswith(\"#\"):\n",
        "            yield line\n",
        "\n",
        "def nospaces(f):\n",
        "    \"Generate the lines of a file without leading or trailing spaces.\"\n",
        "    for line in f:\n",
        "        yield line.strip()\n",
        "\n",
        "def noblanks(f):\n",
        "    \"Generate the non-blank lines of a file.\"\n",
        "    for line in f:\n",
        "        if line:\n",
        "            yield line\n",
        "\n",
        "if __name__ == \"__main__\":\n",
        "    for line in nocomment(noblanks(nospaces(open(\"py08-01.txt\")))):\n",
        "        print(line)"
      ],
      "execution_count": 4,
      "outputs": [
        {
          "output_type": "stream",
          "text": [
            "This line should be the first of four lines in the output.\n",
            "And this should be the second.\n",
            "This should be the third line of output.\n",
            "And this should be the last.\n"
          ],
          "name": "stdout"
        }
      ]
    },
    {
      "cell_type": "code",
      "metadata": {
        "id": "V8BBOfAcQjlQ",
        "colab_type": "code",
        "colab": {
          "base_uri": "https://localhost:8080/",
          "height": 815
        },
        "outputId": "f09edeaa-ba66-4694-8d1b-d05b059d6f3f"
      },
      "source": [
        "!help\n"
      ],
      "execution_count": 5,
      "outputs": [
        {
          "output_type": "stream",
          "text": [
            "GNU bash, version 4.4.20(1)-release (x86_64-pc-linux-gnu)\n",
            "These shell commands are defined internally.  Type `help' to see this list.\n",
            "Type `help name' to find out more about the function `name'.\n",
            "Use `info bash' to find out more about the shell in general.\n",
            "Use `man -k' or `info' to find out more about commands not in this list.\n",
            "\n",
            "A star (*) next to a name means that the command is disabled.\n",
            "\n",
            " job_spec [&]                            history [-c] [-d offset] [n] or hist>\n",
            " (( expression ))                        if COMMANDS; then COMMANDS; [ elif C>\n",
            " . filename [arguments]                  jobs [-lnprs] [jobspec ...] or jobs >\n",
            " :                                       kill [-s sigspec | -n signum | -sigs>\n",
            " [ arg... ]                              let arg [arg ...]\n",
            " [[ expression ]]                        local [option] name[=value] ...\n",
            " alias [-p] [name[=value] ... ]          logout [n]\n",
            " bg [job_spec ...]                       mapfile [-d delim] [-n count] [-O or>\n",
            " bind [-lpsvPSVX] [-m keymap] [-f file>  popd [-n] [+N | -N]\n",
            " break [n]                               printf [-v var] format [arguments]\n",
            " builtin [shell-builtin [arg ...]]       pushd [-n] [+N | -N | dir]\n",
            " caller [expr]                           pwd [-LP]\n",
            " case WORD in [PATTERN [| PATTERN]...)>  read [-ers] [-a array] [-d delim] [->\n",
            " cd [-L|[-P [-e]] [-@]] [dir]            readarray [-n count] [-O origin] [-s>\n",
            " command [-pVv] command [arg ...]        readonly [-aAf] [name[=value] ...] o>\n",
            " compgen [-abcdefgjksuv] [-o option] [>  return [n]\n",
            " complete [-abcdefgjksuv] [-pr] [-DE] >  select NAME [in WORDS ... ;] do COMM>\n",
            " compopt [-o|+o option] [-DE] [name ..>  set [-abefhkmnptuvxBCHP] [-o option->\n",
            " continue [n]                            shift [n]\n",
            " coproc [NAME] command [redirections]    shopt [-pqsu] [-o] [optname ...]\n",
            " declare [-aAfFgilnrtux] [-p] [name[=v>  source filename [arguments]\n",
            " dirs [-clpv] [+N] [-N]                  suspend [-f]\n",
            " disown [-h] [-ar] [jobspec ... | pid >  test [expr]\n",
            " echo [-neE] [arg ...]                   time [-p] pipeline\n",
            " enable [-a] [-dnps] [-f filename] [na>  times\n",
            " eval [arg ...]                          trap [-lp] [[arg] signal_spec ...]\n",
            " exec [-cl] [-a name] [command [argume>  true\n",
            " exit [n]                                type [-afptP] name [name ...]\n",
            " export [-fn] [name[=value] ...] or ex>  typeset [-aAfFgilnrtux] [-p] name[=v>\n",
            " false                                   ulimit [-SHabcdefiklmnpqrstuvxPT] [l>\n",
            " fc [-e ename] [-lnr] [first] [last] o>  umask [-p] [-S] [mode]\n",
            " fg [job_spec]                           unalias [-a] name [name ...]\n",
            " for NAME [in WORDS ... ] ; do COMMAND>  unset [-f] [-v] [-n] [name ...]\n",
            " for (( exp1; exp2; exp3 )); do COMMAN>  until COMMANDS; do COMMANDS; done\n",
            " function name { COMMANDS ; } or name >  variables - Names and meanings of so>\n",
            " getopts optstring name [arg]            wait [-n] [id ...]\n",
            " hash [-lr] [-p pathname] [-dt] [name >  while COMMANDS; do COMMANDS; done\n",
            " help [-dms] [pattern ...]               { COMMANDS ; }\n"
          ],
          "name": "stdout"
        }
      ]
    },
    {
      "cell_type": "code",
      "metadata": {
        "id": "E8x3ONdcRbni",
        "colab_type": "code",
        "colab": {
          "base_uri": "https://localhost:8080/",
          "height": 87
        },
        "outputId": "c022298f-5c96-45e4-af63-ec6e8420f722"
      },
      "source": [
        "\"\"\"\n",
        "Demonstrate simple use of itertools.tee.\n",
        "\"\"\"\n",
        "import itertools\n",
        "\n",
        "actions = \"save\", \"delete\"\n",
        "data = [\"file1.py\", \"file2.py\", \"save\", \"file3.py\", \"file4.py\",\n",
        "        \"delete\", \"file5.py\", \"save\", \"file6.py\",\n",
        "        \"file7.py\", \"file8.py\", \"file9.py\", \"save\"]\n",
        "saved = []\n",
        "deleted = []\n",
        "\n",
        "def datagen(d):\n",
        "    \"A 'toy' data generator using static data\"\n",
        "    for item in d:\n",
        "        yield item\n",
        "\n",
        "commands, files = itertools.tee(datagen(data))\n",
        "print(commands)\n",
        "print(files)\n",
        "for action in commands:\n",
        "    if action in actions:\n",
        "        for file in files:\n",
        "            if file == action:\n",
        "                break\n",
        "            if action == \"save\":\n",
        "                saved.append(file)\n",
        "            elif action == \"delete\":\n",
        "                deleted.append(file)\n",
        "print(\"Saved:\", \", \".join(saved))\n",
        "print(\"Deleted:\", \", \".join(deleted))"
      ],
      "execution_count": 6,
      "outputs": [
        {
          "output_type": "stream",
          "text": [
            "<itertools._tee object at 0x7f271d65e288>\n",
            "<itertools._tee object at 0x7f271d65ed88>\n",
            "Saved: file1.py, file2.py, file5.py, file6.py, file7.py, file8.py, file9.py\n",
            "Deleted: file3.py, file4.py\n"
          ],
          "name": "stdout"
        }
      ]
    },
    {
      "cell_type": "code",
      "metadata": {
        "id": "C16V75OdSzu4",
        "colab_type": "code",
        "colab": {
          "base_uri": "https://localhost:8080/",
          "height": 89
        },
        "outputId": "72545220-a0f7-4f78-ad1e-0ad2be6bfae8"
      },
      "source": [
        ">>> import itertools\n",
        ">>> s1 = (1, 3, 5, 7, 11)\n",
        ">>> s2 = ['one', 'two', 'three', 'four']\n",
        ">>> def sqq(n):\n",
        "...     for i in range(n): \n",
        "...         yield i*i\n",
        "... \n",
        ">>> s3 = sqq(10)\n",
        ">>> \n",
        ">>> input = itertools.chain(s1, s2, s3)\n",
        "print(dir(input))\n",
        "print(list(itertools.islice(input, 2, 7, 2)))\n",
        "print(list(itertools.islice(input, 3)))"
      ],
      "execution_count": 11,
      "outputs": [
        {
          "output_type": "stream",
          "text": [
            "['__class__', '__delattr__', '__dir__', '__doc__', '__eq__', '__format__', '__ge__', '__getattribute__', '__gt__', '__hash__', '__init__', '__init_subclass__', '__iter__', '__le__', '__lt__', '__ne__', '__new__', '__next__', '__reduce__', '__reduce_ex__', '__repr__', '__setattr__', '__setstate__', '__sizeof__', '__str__', '__subclasshook__', 'from_iterable']\n",
            "[5, 11, 'two']\n",
            "['three', 'four', 0]\n"
          ],
          "name": "stdout"
        }
      ]
    },
    {
      "cell_type": "code",
      "metadata": {
        "id": "WFlHLkb2TmzG",
        "colab_type": "code",
        "colab": {
          "base_uri": "https://localhost:8080/",
          "height": 329
        },
        "outputId": "85094dac-e154-49a8-953f-b7503d95ad8f"
      },
      "source": [
        ">>> from random import random\n",
        ">>> from timeit import timeit\n",
        ">>> for i in (10000, 100000, 1000000, 10000000, 20000000, 50000000):\n",
        "...     lst = [random() for j in range(i)]\n",
        "...     print(\"Length\", i)\n",
        "...     print(timeit(\"sum(x+1 for x in lst)\", \"from __main__ import lst\", number=1))\n",
        "...     print(timeit(\"sum([x+1 for x in lst])\", \"from __main__ import lst\", number=1))"
      ],
      "execution_count": 12,
      "outputs": [
        {
          "output_type": "stream",
          "text": [
            "Length 10000\n",
            "0.0009733970000525005\n",
            "0.0013626300001305935\n",
            "Length 100000\n",
            "0.0067964670001856575\n",
            "0.010149243000114438\n",
            "Length 1000000\n",
            "0.06868968899993888\n",
            "0.0995837840000604\n",
            "Length 10000000\n",
            "0.659927377999793\n",
            "0.9862468290000379\n",
            "Length 20000000\n",
            "1.32213863700008\n",
            "1.8452025529998082\n",
            "Length 50000000\n",
            "3.270820861999937\n",
            "4.9489761510001244\n"
          ],
          "name": "stdout"
        }
      ]
    }
  ]
}